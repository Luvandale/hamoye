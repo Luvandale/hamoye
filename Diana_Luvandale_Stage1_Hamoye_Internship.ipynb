{
  "nbformat": 4,
  "nbformat_minor": 0,
  "metadata": {
    "colab": {
      "name": "Diana_Luvandale_Stage1_Hamoye_Internship.ipynb",
      "provenance": []
    },
    "kernelspec": {
      "name": "python3",
      "display_name": "Python 3"
    }
  },
  "cells": [
    {
      "cell_type": "markdown",
      "metadata": {
        "id": "YK20xgeh_3YX",
        "colab_type": "text"
      },
      "source": [
        "importing our libraries"
      ]
    },
    {
      "cell_type": "code",
      "metadata": {
        "id": "TmYjIDaJ_JJi",
        "colab_type": "code",
        "colab": {
          "base_uri": "https://localhost:8080/",
          "height": 71
        },
        "outputId": "31facdda-6cb9-4431-d07d-fbf4d01aaa36"
      },
      "source": [
        "import numpy as np\n",
        "import pandas as pd\n",
        "import matplotlib.pyplot as plt\n",
        "import seaborn as sns\n"
      ],
      "execution_count": 9,
      "outputs": [
        {
          "output_type": "stream",
          "text": [
            "/usr/local/lib/python3.6/dist-packages/statsmodels/tools/_testing.py:19: FutureWarning: pandas.util.testing is deprecated. Use the functions in the public API at pandas.testing instead.\n",
            "  import pandas.util.testing as tm\n"
          ],
          "name": "stderr"
        }
      ]
    },
    {
      "cell_type": "markdown",
      "metadata": {
        "id": "u29HM8IYAOly",
        "colab_type": "text"
      },
      "source": [
        "Loading out datasets"
      ]
    },
    {
      "cell_type": "code",
      "metadata": {
        "id": "4cKbrNpoAJap",
        "colab_type": "code",
        "colab": {
          "base_uri": "https://localhost:8080/",
          "height": 224
        },
        "outputId": "734709b2-98d3-4df9-f4d4-d8bfcf8d1f2b"
      },
      "source": [
        "df = pd.read_csv('/content/fuel_ferc1.csv')\n",
        "# reading our first five columns\n",
        "df.head()"
      ],
      "execution_count": 2,
      "outputs": [
        {
          "output_type": "execute_result",
          "data": {
            "text/html": [
              "<div>\n",
              "<style scoped>\n",
              "    .dataframe tbody tr th:only-of-type {\n",
              "        vertical-align: middle;\n",
              "    }\n",
              "\n",
              "    .dataframe tbody tr th {\n",
              "        vertical-align: top;\n",
              "    }\n",
              "\n",
              "    .dataframe thead th {\n",
              "        text-align: right;\n",
              "    }\n",
              "</style>\n",
              "<table border=\"1\" class=\"dataframe\">\n",
              "  <thead>\n",
              "    <tr style=\"text-align: right;\">\n",
              "      <th></th>\n",
              "      <th>record_id</th>\n",
              "      <th>utility_id_ferc1</th>\n",
              "      <th>report_year</th>\n",
              "      <th>plant_name_ferc1</th>\n",
              "      <th>fuel_type_code_pudl</th>\n",
              "      <th>fuel_unit</th>\n",
              "      <th>fuel_qty_burned</th>\n",
              "      <th>fuel_mmbtu_per_unit</th>\n",
              "      <th>fuel_cost_per_unit_burned</th>\n",
              "      <th>fuel_cost_per_unit_delivered</th>\n",
              "      <th>fuel_cost_per_mmbtu</th>\n",
              "    </tr>\n",
              "  </thead>\n",
              "  <tbody>\n",
              "    <tr>\n",
              "      <th>0</th>\n",
              "      <td>f1_fuel_1994_12_1_0_7</td>\n",
              "      <td>1</td>\n",
              "      <td>1994</td>\n",
              "      <td>rockport</td>\n",
              "      <td>coal</td>\n",
              "      <td>ton</td>\n",
              "      <td>5377489.0</td>\n",
              "      <td>16.590</td>\n",
              "      <td>18.59</td>\n",
              "      <td>18.53</td>\n",
              "      <td>1.121</td>\n",
              "    </tr>\n",
              "    <tr>\n",
              "      <th>1</th>\n",
              "      <td>f1_fuel_1994_12_1_0_10</td>\n",
              "      <td>1</td>\n",
              "      <td>1994</td>\n",
              "      <td>rockport total plant</td>\n",
              "      <td>coal</td>\n",
              "      <td>ton</td>\n",
              "      <td>10486945.0</td>\n",
              "      <td>16.592</td>\n",
              "      <td>18.58</td>\n",
              "      <td>18.53</td>\n",
              "      <td>1.120</td>\n",
              "    </tr>\n",
              "    <tr>\n",
              "      <th>2</th>\n",
              "      <td>f1_fuel_1994_12_2_0_1</td>\n",
              "      <td>2</td>\n",
              "      <td>1994</td>\n",
              "      <td>gorgas</td>\n",
              "      <td>coal</td>\n",
              "      <td>ton</td>\n",
              "      <td>2978683.0</td>\n",
              "      <td>24.130</td>\n",
              "      <td>39.72</td>\n",
              "      <td>38.12</td>\n",
              "      <td>1.650</td>\n",
              "    </tr>\n",
              "    <tr>\n",
              "      <th>3</th>\n",
              "      <td>f1_fuel_1994_12_2_0_7</td>\n",
              "      <td>2</td>\n",
              "      <td>1994</td>\n",
              "      <td>barry</td>\n",
              "      <td>coal</td>\n",
              "      <td>ton</td>\n",
              "      <td>3739484.0</td>\n",
              "      <td>23.950</td>\n",
              "      <td>47.21</td>\n",
              "      <td>45.99</td>\n",
              "      <td>1.970</td>\n",
              "    </tr>\n",
              "    <tr>\n",
              "      <th>4</th>\n",
              "      <td>f1_fuel_1994_12_2_0_10</td>\n",
              "      <td>2</td>\n",
              "      <td>1994</td>\n",
              "      <td>chickasaw</td>\n",
              "      <td>gas</td>\n",
              "      <td>mcf</td>\n",
              "      <td>40533.0</td>\n",
              "      <td>1.000</td>\n",
              "      <td>2.77</td>\n",
              "      <td>2.77</td>\n",
              "      <td>2.570</td>\n",
              "    </tr>\n",
              "  </tbody>\n",
              "</table>\n",
              "</div>"
            ],
            "text/plain": [
              "                record_id  ...  fuel_cost_per_mmbtu\n",
              "0   f1_fuel_1994_12_1_0_7  ...                1.121\n",
              "1  f1_fuel_1994_12_1_0_10  ...                1.120\n",
              "2   f1_fuel_1994_12_2_0_1  ...                1.650\n",
              "3   f1_fuel_1994_12_2_0_7  ...                1.970\n",
              "4  f1_fuel_1994_12_2_0_10  ...                2.570\n",
              "\n",
              "[5 rows x 11 columns]"
            ]
          },
          "metadata": {
            "tags": []
          },
          "execution_count": 2
        }
      ]
    },
    {
      "cell_type": "markdown",
      "metadata": {
        "id": "NBYisxvtBTaF",
        "colab_type": "text"
      },
      "source": [
        "Dataset exploration"
      ]
    },
    {
      "cell_type": "code",
      "metadata": {
        "id": "1RrGhOwUBY6D",
        "colab_type": "code",
        "colab": {
          "base_uri": "https://localhost:8080/",
          "height": 323
        },
        "outputId": "5f08417c-f7b1-4afa-d87c-97897cbe702f"
      },
      "source": [
        "# checking information from the dataset\n",
        "df.info()"
      ],
      "execution_count": 3,
      "outputs": [
        {
          "output_type": "stream",
          "text": [
            "<class 'pandas.core.frame.DataFrame'>\n",
            "RangeIndex: 29523 entries, 0 to 29522\n",
            "Data columns (total 11 columns):\n",
            " #   Column                        Non-Null Count  Dtype  \n",
            "---  ------                        --------------  -----  \n",
            " 0   record_id                     29523 non-null  object \n",
            " 1   utility_id_ferc1              29523 non-null  int64  \n",
            " 2   report_year                   29523 non-null  int64  \n",
            " 3   plant_name_ferc1              29523 non-null  object \n",
            " 4   fuel_type_code_pudl           29523 non-null  object \n",
            " 5   fuel_unit                     29343 non-null  object \n",
            " 6   fuel_qty_burned               29523 non-null  float64\n",
            " 7   fuel_mmbtu_per_unit           29523 non-null  float64\n",
            " 8   fuel_cost_per_unit_burned     29523 non-null  float64\n",
            " 9   fuel_cost_per_unit_delivered  29523 non-null  float64\n",
            " 10  fuel_cost_per_mmbtu           29523 non-null  float64\n",
            "dtypes: float64(5), int64(2), object(4)\n",
            "memory usage: 2.5+ MB\n"
          ],
          "name": "stdout"
        }
      ]
    },
    {
      "cell_type": "code",
      "metadata": {
        "id": "B6jGpAVTKI0Q",
        "colab_type": "code",
        "colab": {
          "base_uri": "https://localhost:8080/",
          "height": 34
        },
        "outputId": "4edab560-f0d0-4926-c734-b3c4a9096a63"
      },
      "source": [
        "# determining the shape of our dataset\n",
        "df.shape"
      ],
      "execution_count": 4,
      "outputs": [
        {
          "output_type": "execute_result",
          "data": {
            "text/plain": [
              "(29523, 11)"
            ]
          },
          "metadata": {
            "tags": []
          },
          "execution_count": 4
        }
      ]
    },
    {
      "cell_type": "code",
      "metadata": {
        "id": "FTx0KsquKce3",
        "colab_type": "code",
        "colab": {
          "base_uri": "https://localhost:8080/",
          "height": 102
        },
        "outputId": "bcf2a120-e57e-4747-c232-29250edd9bae"
      },
      "source": [
        "# checking the columns in my dataset\n",
        "df.columns"
      ],
      "execution_count": 5,
      "outputs": [
        {
          "output_type": "execute_result",
          "data": {
            "text/plain": [
              "Index(['record_id', 'utility_id_ferc1', 'report_year', 'plant_name_ferc1',\n",
              "       'fuel_type_code_pudl', 'fuel_unit', 'fuel_qty_burned',\n",
              "       'fuel_mmbtu_per_unit', 'fuel_cost_per_unit_burned',\n",
              "       'fuel_cost_per_unit_delivered', 'fuel_cost_per_mmbtu'],\n",
              "      dtype='object')"
            ]
          },
          "metadata": {
            "tags": []
          },
          "execution_count": 5
        }
      ]
    },
    {
      "cell_type": "markdown",
      "metadata": {
        "id": "vYuxulYtKryB",
        "colab_type": "text"
      },
      "source": [
        "DATA CLEANING"
      ]
    },
    {
      "cell_type": "code",
      "metadata": {
        "id": "cU_fC_niKrE_",
        "colab_type": "code",
        "colab": {
          "base_uri": "https://localhost:8080/",
          "height": 221
        },
        "outputId": "0d19538f-4211-40ce-bea6-dce3f662b539"
      },
      "source": [
        "# checking for null values\n",
        "df.isnull().sum()"
      ],
      "execution_count": 14,
      "outputs": [
        {
          "output_type": "execute_result",
          "data": {
            "text/plain": [
              "record_id                         0\n",
              "utility_id_ferc1                  0\n",
              "report_year                       0\n",
              "plant_name_ferc1                  0\n",
              "fuel_type_code_pudl               0\n",
              "fuel_unit                       180\n",
              "fuel_qty_burned                   0\n",
              "fuel_mmbtu_per_unit               0\n",
              "fuel_cost_per_unit_burned         0\n",
              "fuel_cost_per_unit_delivered      0\n",
              "fuel_cost_per_mmbtu               0\n",
              "dtype: int64"
            ]
          },
          "metadata": {
            "tags": []
          },
          "execution_count": 14
        }
      ]
    },
    {
      "cell_type": "code",
      "metadata": {
        "id": "Ip5lXTHQcShY",
        "colab_type": "code",
        "colab": {
          "base_uri": "https://localhost:8080/",
          "height": 34
        },
        "outputId": "edd8a749-d3c8-4372-a359-140832d82719"
      },
      "source": [
        "index = df.index\n",
        "number_of_rows = len(index)\n",
        "\n",
        "\n",
        "print(number_of_rows)"
      ],
      "execution_count": 21,
      "outputs": [
        {
          "output_type": "stream",
          "text": [
            "29523\n"
          ],
          "name": "stdout"
        }
      ]
    },
    {
      "cell_type": "code",
      "metadata": {
        "id": "XeuXDEIOLVF2",
        "colab_type": "code",
        "colab": {
          "base_uri": "https://localhost:8080/",
          "height": 34
        },
        "outputId": "cceb0a02-bf77-45b5-ddaf-1225db751ac2"
      },
      "source": [
        "# dropping duplicates\n",
        "df = df.drop_duplicates()\n",
        "df.shape"
      ],
      "execution_count": 7,
      "outputs": [
        {
          "output_type": "execute_result",
          "data": {
            "text/plain": [
              "(29523, 11)"
            ]
          },
          "metadata": {
            "tags": []
          },
          "execution_count": 7
        }
      ]
    },
    {
      "cell_type": "code",
      "metadata": {
        "id": "0GFRIrUKPpiG",
        "colab_type": "code",
        "colab": {}
      },
      "source": [
        ""
      ],
      "execution_count": null,
      "outputs": []
    },
    {
      "cell_type": "markdown",
      "metadata": {
        "id": "WVFudXdvN_kQ",
        "colab_type": "text"
      },
      "source": [
        "DATA ANALYSIS"
      ]
    },
    {
      "cell_type": "code",
      "metadata": {
        "id": "b-FMrsQCXpfs",
        "colab_type": "code",
        "colab": {
          "base_uri": "https://localhost:8080/",
          "height": 476
        },
        "outputId": "236b7940-aa66-4c75-aefc-046a3ded1a78"
      },
      "source": [
        "# Which year has the highest average fuel cost per unit delivered?\n",
        "mean_data = df['fuel_cost_per_unit_delivered'].groupby([df['report_year']]).mean()\n",
        "mean_data.rank(ascending=1)"
      ],
      "execution_count": 37,
      "outputs": [
        {
          "output_type": "execute_result",
          "data": {
            "text/plain": [
              "report_year\n",
              "1994    13.0\n",
              "1995     2.0\n",
              "1996    24.0\n",
              "1997    25.0\n",
              "1998    19.0\n",
              "1999     1.0\n",
              "2000    23.0\n",
              "2001    11.0\n",
              "2002     7.0\n",
              "2003     8.0\n",
              "2004    16.0\n",
              "2005     4.0\n",
              "2006     3.0\n",
              "2007     5.0\n",
              "2008     9.0\n",
              "2009    22.0\n",
              "2010    14.0\n",
              "2011    10.0\n",
              "2012    12.0\n",
              "2013    17.0\n",
              "2014    18.0\n",
              "2015    20.0\n",
              "2016    15.0\n",
              "2017     6.0\n",
              "2018    21.0\n",
              "Name: fuel_cost_per_unit_delivered, dtype: float64"
            ]
          },
          "metadata": {
            "tags": []
          },
          "execution_count": 37
        }
      ]
    },
    {
      "cell_type": "code",
      "metadata": {
        "id": "YoMQijeNaepj",
        "colab_type": "code",
        "colab": {}
      },
      "source": [
        "# For the fuel type coal, what is the percentage change \n",
        "# in the fuel cost per unit burned in 1998 compared to 1994?\n"
      ],
      "execution_count": null,
      "outputs": []
    },
    {
      "cell_type": "code",
      "metadata": {
        "id": "g5f92F3scv8l",
        "colab_type": "code",
        "colab": {
          "base_uri": "https://localhost:8080/",
          "height": 153
        },
        "outputId": "13812614-8f01-497c-b2e0-09d1d7b78fc8"
      },
      "source": [
        "# Which of the following fuel type code has the lowest average fuel cost per unit burned?\n",
        "my_data = df['fuel_cost_per_unit_burned'].groupby([df['fuel_type_code_pudl']]).mean()\n",
        "my_data.rank(ascending=1)"
      ],
      "execution_count": 41,
      "outputs": [
        {
          "output_type": "execute_result",
          "data": {
            "text/plain": [
              "fuel_type_code_pudl\n",
              "coal       4.0\n",
              "gas        1.0\n",
              "nuclear    6.0\n",
              "oil        5.0\n",
              "other      2.0\n",
              "waste      3.0\n",
              "Name: fuel_cost_per_unit_burned, dtype: float64"
            ]
          },
          "metadata": {
            "tags": []
          },
          "execution_count": 41
        }
      ]
    },
    {
      "cell_type": "code",
      "metadata": {
        "id": "Ax6khmjhe30f",
        "colab_type": "code",
        "colab": {
          "base_uri": "https://localhost:8080/",
          "height": 34
        },
        "outputId": "6b380bcf-9c4e-401a-9164-a5f88d0e363a"
      },
      "source": [
        "# What is the standard deviation and 75th percentile of the measure of energy per unit (Fuel_mmbtu_per_unit) in two decimal places?\n",
        "df['fuel_mmbtu_per_unit'].std()"
      ],
      "execution_count": 39,
      "outputs": [
        {
          "output_type": "execute_result",
          "data": {
            "text/plain": [
              "10.600220307806886"
            ]
          },
          "metadata": {
            "tags": []
          },
          "execution_count": 39
        }
      ]
    },
    {
      "cell_type": "code",
      "metadata": {
        "id": "k7RUouxwfUsZ",
        "colab_type": "code",
        "colab": {
          "base_uri": "https://localhost:8080/",
          "height": 34
        },
        "outputId": "2cc305f8-ac51-42a0-cfcc-145e2fad99c3"
      },
      "source": [
        "# What is the skewness and kurtosis for the fuel quantity burned in two decimal places?\n",
        "df['fuel_qty_burned'].skew()\n"
      ],
      "execution_count": 28,
      "outputs": [
        {
          "output_type": "execute_result",
          "data": {
            "text/plain": [
              "15.851495469109503"
            ]
          },
          "metadata": {
            "tags": []
          },
          "execution_count": 28
        }
      ]
    },
    {
      "cell_type": "code",
      "metadata": {
        "id": "I3a_6zjjf8BN",
        "colab_type": "code",
        "colab": {
          "base_uri": "https://localhost:8080/",
          "height": 34
        },
        "outputId": "16aabf03-d7fe-46e8-c2ad-84914eb3ffc3"
      },
      "source": [
        "df['fuel_qty_burned'].kurt()"
      ],
      "execution_count": 29,
      "outputs": [
        {
          "output_type": "execute_result",
          "data": {
            "text/plain": [
              "651.3694501337732"
            ]
          },
          "metadata": {
            "tags": []
          },
          "execution_count": 29
        }
      ]
    },
    {
      "cell_type": "code",
      "metadata": {
        "id": "wj3OXkJthrQ6",
        "colab_type": "code",
        "colab": {
          "base_uri": "https://localhost:8080/",
          "height": 286
        },
        "outputId": "1bdc8ed4-a930-4294-f1e4-3cebcf8ca2db"
      },
      "source": [
        "# Which of the features has the second and third lowest correlation with the Fuel Cost Per Unit Burned?\n",
        "df.corr()"
      ],
      "execution_count": 35,
      "outputs": [
        {
          "output_type": "execute_result",
          "data": {
            "text/html": [
              "<div>\n",
              "<style scoped>\n",
              "    .dataframe tbody tr th:only-of-type {\n",
              "        vertical-align: middle;\n",
              "    }\n",
              "\n",
              "    .dataframe tbody tr th {\n",
              "        vertical-align: top;\n",
              "    }\n",
              "\n",
              "    .dataframe thead th {\n",
              "        text-align: right;\n",
              "    }\n",
              "</style>\n",
              "<table border=\"1\" class=\"dataframe\">\n",
              "  <thead>\n",
              "    <tr style=\"text-align: right;\">\n",
              "      <th></th>\n",
              "      <th>utility_id_ferc1</th>\n",
              "      <th>report_year</th>\n",
              "      <th>fuel_qty_burned</th>\n",
              "      <th>fuel_mmbtu_per_unit</th>\n",
              "      <th>fuel_cost_per_unit_burned</th>\n",
              "      <th>fuel_cost_per_unit_delivered</th>\n",
              "      <th>fuel_cost_per_mmbtu</th>\n",
              "    </tr>\n",
              "  </thead>\n",
              "  <tbody>\n",
              "    <tr>\n",
              "      <th>utility_id_ferc1</th>\n",
              "      <td>1.000000</td>\n",
              "      <td>0.093323</td>\n",
              "      <td>-0.057447</td>\n",
              "      <td>-0.066946</td>\n",
              "      <td>-0.037863</td>\n",
              "      <td>-0.016414</td>\n",
              "      <td>0.006122</td>\n",
              "    </tr>\n",
              "    <tr>\n",
              "      <th>report_year</th>\n",
              "      <td>0.093323</td>\n",
              "      <td>1.000000</td>\n",
              "      <td>0.012952</td>\n",
              "      <td>-0.110853</td>\n",
              "      <td>0.013599</td>\n",
              "      <td>-0.014043</td>\n",
              "      <td>0.010261</td>\n",
              "    </tr>\n",
              "    <tr>\n",
              "      <th>fuel_qty_burned</th>\n",
              "      <td>-0.057447</td>\n",
              "      <td>0.012952</td>\n",
              "      <td>1.000000</td>\n",
              "      <td>-0.080946</td>\n",
              "      <td>-0.018535</td>\n",
              "      <td>-0.003551</td>\n",
              "      <td>-0.001896</td>\n",
              "    </tr>\n",
              "    <tr>\n",
              "      <th>fuel_mmbtu_per_unit</th>\n",
              "      <td>-0.066946</td>\n",
              "      <td>-0.110853</td>\n",
              "      <td>-0.080946</td>\n",
              "      <td>1.000000</td>\n",
              "      <td>-0.010034</td>\n",
              "      <td>-0.009039</td>\n",
              "      <td>-0.005884</td>\n",
              "    </tr>\n",
              "    <tr>\n",
              "      <th>fuel_cost_per_unit_burned</th>\n",
              "      <td>-0.037863</td>\n",
              "      <td>0.013599</td>\n",
              "      <td>-0.018535</td>\n",
              "      <td>-0.010034</td>\n",
              "      <td>1.000000</td>\n",
              "      <td>0.011007</td>\n",
              "      <td>-0.000437</td>\n",
              "    </tr>\n",
              "    <tr>\n",
              "      <th>fuel_cost_per_unit_delivered</th>\n",
              "      <td>-0.016414</td>\n",
              "      <td>-0.014043</td>\n",
              "      <td>-0.003551</td>\n",
              "      <td>-0.009039</td>\n",
              "      <td>0.011007</td>\n",
              "      <td>1.000000</td>\n",
              "      <td>-0.000109</td>\n",
              "    </tr>\n",
              "    <tr>\n",
              "      <th>fuel_cost_per_mmbtu</th>\n",
              "      <td>0.006122</td>\n",
              "      <td>0.010261</td>\n",
              "      <td>-0.001896</td>\n",
              "      <td>-0.005884</td>\n",
              "      <td>-0.000437</td>\n",
              "      <td>-0.000109</td>\n",
              "      <td>1.000000</td>\n",
              "    </tr>\n",
              "  </tbody>\n",
              "</table>\n",
              "</div>"
            ],
            "text/plain": [
              "                              utility_id_ferc1  ...  fuel_cost_per_mmbtu\n",
              "utility_id_ferc1                      1.000000  ...             0.006122\n",
              "report_year                           0.093323  ...             0.010261\n",
              "fuel_qty_burned                      -0.057447  ...            -0.001896\n",
              "fuel_mmbtu_per_unit                  -0.066946  ...            -0.005884\n",
              "fuel_cost_per_unit_burned            -0.037863  ...            -0.000437\n",
              "fuel_cost_per_unit_delivered         -0.016414  ...            -0.000109\n",
              "fuel_cost_per_mmbtu                   0.006122  ...             1.000000\n",
              "\n",
              "[7 rows x 7 columns]"
            ]
          },
          "metadata": {
            "tags": []
          },
          "execution_count": 35
        }
      ]
    }
  ]
}